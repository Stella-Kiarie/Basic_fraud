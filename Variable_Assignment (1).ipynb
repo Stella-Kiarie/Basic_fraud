{
 "cells": [
  {
   "cell_type": "markdown",
   "source": [
    "# Introduction to Variables & Assignment\n",
    "## A variable is store for storing values with a name\n",
    "## We use the = (equal sign) for assignment; it copies the value on the right into the name on the left\n",
    "## Variable names can be letters, _, number but can't start with a number and is case sensitive"
   ],
   "metadata": {
    "collapsed": false
   },
   "id": "208ac447646baffd"
  },
  {
   "cell_type": "code",
   "outputs": [],
   "source": [
    "name = \"Dean Mutie\" # String\n",
    "user_name = 'Mwanaisha Ali' # String\n",
    "age = 19 # Integer, int\n",
    "pi = 3.142 # float\n",
    "is_active = True # boolean, bool"
   ],
   "metadata": {
    "collapsed": false
   },
   "id": "172903d6254dc753"
  },
  {
   "cell_type": "markdown",
   "source": [
    "## Dynamic Typing\n",
    "### A name can point to different types over a period of time"
   ],
   "metadata": {
    "collapsed": false
   },
   "id": "d2d0c88772476b55"
  },
  {
   "cell_type": "code",
   "outputs": [],
   "source": [
    "x = 10 # int\n",
    "x = 'ten' # now a str"
   ],
   "metadata": {
    "collapsed": false
   },
   "id": "c986709c78128636"
  },
  {
   "cell_type": "markdown",
   "source": [
    "# Introduction to Strings & Operations\n",
    "## A String (str) is a sequence of characters enclosed in \" \" or ''\n",
    "## We use \"\"\"...\"\"\" for multi-line strings"
   ],
   "metadata": {
    "collapsed": false
   },
   "id": "b9dda1fe9619adcc"
  },
  {
   "cell_type": "code",
   "outputs": [],
   "source": [
    "greeting = 'Hello'\n",
    "name = \"Dean Mutie\""
   ],
   "metadata": {
    "collapsed": false
   },
   "id": "121c319ee11e9d5e"
  },
  {
   "cell_type": "markdown",
   "source": [
    "### Common String Operations"
   ],
   "metadata": {
    "collapsed": false
   },
   "id": "4a995ab4ac9bbbe0"
  },
  {
   "cell_type": "code",
   "outputs": [
    {
     "name": "stdout",
     "output_type": "stream",
     "text": [
      "JamesMaurice Owiti\n"
     ]
    }
   ],
   "source": [
    "p_lang = 'Python'\n",
    "p_lang2 = 'Python-DS-001'\n",
    "date = '26/08/2025'\n",
    "# Length\n",
    "len(p_lang)\n",
    "# Indexing\n",
    "p_lang[0]\n",
    "# Indexing from the end\n",
    "p_lang[-1]\n",
    "# Uppercase\n",
    "p_lang.upper()\n",
    "# Lowercase\n",
    "p_lang.lower()\n",
    "# Split\n",
    "p_lang.split(\",\")\n",
    "# Concatenation\n",
    "fname = 'James'\n",
    "mname = \"Maurice\"\n",
    "lname = 'Owiti'\n",
    "\n",
    "# print(len(p_lang))\n",
    "# print(p_lang[-2])\n",
    "# print(p_lang.lower())\n",
    "# print(p_lang)\n",
    "# print(p_lang.split(\"-\"))\n",
    "print(fname+ ' ' + mname+ ' ' + lname)\n"
   ],
   "metadata": {
    "collapsed": false,
    "ExecuteTime": {
     "end_time": "2025-08-26T08:26:29.282517Z",
     "start_time": "2025-08-26T08:26:29.278182Z"
    }
   },
   "id": "31962423ae101aa0",
   "execution_count": 24
  },
  {
   "cell_type": "code",
   "outputs": [],
   "source": [],
   "metadata": {
    "collapsed": false
   },
   "id": "c270344685b0d214"
  }
 ],
 "metadata": {
  "kernelspec": {
   "display_name": "Python 3",
   "language": "python",
   "name": "python3"
  },
  "language_info": {
   "codemirror_mode": {
    "name": "ipython",
    "version": 2
   },
   "file_extension": ".py",
   "mimetype": "text/x-python",
   "name": "python",
   "nbconvert_exporter": "python",
   "pygments_lexer": "ipython2",
   "version": "2.7.6"
  }
 },
 "nbformat": 4,
 "nbformat_minor": 5
}
